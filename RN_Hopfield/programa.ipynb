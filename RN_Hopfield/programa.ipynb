{
 "cells": [
  {
   "cell_type": "code",
   "execution_count": null,
   "metadata": {},
   "outputs": [],
   "source": []
  },
  {
   "cell_type": "code",
   "execution_count": null,
   "metadata": {},
   "outputs": [],
   "source": [
    "def FA(z):\n",
    "     if z > 0:\n",
    "           return 1\n",
    "     elif z < 0:\n",
    "           return -1\n",
    "     else:\n",
    "          return 0"
   ]
  },
  {
   "cell_type": "code",
   "execution_count": null,
   "metadata": {},
   "outputs": [],
   "source": [
    "z1 = x1 * p_1\n",
    "\n",
    "r1 = []\n",
    "r1 = []\n",
    "\n",
    "for i in range(len(z1)):\n",
    "     r1[i] = FA(z1[i])\n",
    "\n",
    "if r1 == x1:\n",
    "     z2 = x2 * p_2\n",
    "else:\n",
    "     r2 = r1 * p_1\n",
    "     "
   ]
  },
  {
   "cell_type": "code",
   "execution_count": null,
   "metadata": {},
   "outputs": [],
   "source": []
  },
  {
   "cell_type": "code",
   "execution_count": null,
   "metadata": {},
   "outputs": [],
   "source": []
  }
 ],
 "metadata": {
  "language_info": {
   "name": "python"
  }
 },
 "nbformat": 4,
 "nbformat_minor": 2
}
