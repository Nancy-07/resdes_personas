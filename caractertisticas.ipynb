{
 "cells": [
  {
   "cell_type": "code",
   "execution_count": 8,
   "metadata": {},
   "outputs": [],
   "source": [
    "from PIL import Image\n",
    "import os\n",
    "\n",
    "def limpiar_carpeta(carpeta):\n",
    "    for archivo in os.listdir(carpeta):\n",
    "        ruta_archivo = os.path.join(carpeta, archivo)\n",
    "        if os.path.isfile(ruta_archivo):\n",
    "            os.remove(ruta_archivo)\n",
    "\n",
    "def dividir_imagen(imagen, ancho_segmento, alto_segmento, carpeta_destino):\n",
    "    if not os.path.exists(carpeta_destino):\n",
    "        os.makedirs(carpeta_destino)\n",
    "    else:\n",
    "        limpiar_carpeta(carpeta_destino)\n",
    "\n",
    "    img = Image.open(imagen)\n",
    "    ancho_total, alto_total = img.size\n",
    "\n",
    "    contador = 1\n",
    "    for y in range(0, alto_total, alto_segmento):\n",
    "        for x in range(0, ancho_total, ancho_segmento):\n",
    "            cuadro = (x, y, x + ancho_segmento, y + alto_segmento)\n",
    "            segmento = img.crop(cuadro)\n",
    "            segmento.save(os.path.join(carpeta_destino, f\"segmento_{contador}.png\"))\n",
    "            contador += 1\n",
    "\n",
    "\n",
    "imagen_original = \"17.jpg\"\n",
    "ancho_segmento = 100\n",
    "alto_segmento = 100\n",
    "carpeta_destino = \"segmentos\"\n",
    "\n",
    "dividir_imagen(imagen_original, ancho_segmento, alto_segmento, carpeta_destino)\n"
   ]
  },
  {
   "cell_type": "code",
   "execution_count": 3,
   "metadata": {},
   "outputs": [],
   "source": [
    "# HOG\n"
   ]
  },
  {
   "cell_type": "code",
   "execution_count": 16,
   "metadata": {},
   "outputs": [
    {
     "name": "stdout",
     "output_type": "stream",
     "text": [
      "(< cv2.KeyPoint 0000027DCC096340>, < cv2.KeyPoint 0000027DCC58AD60>, < cv2.KeyPoint 0000027DCC58A280>, < cv2.KeyPoint 0000027DCC589800>, < cv2.KeyPoint 0000027DCC58A2B0>, < cv2.KeyPoint 0000027DCC589E00>, < cv2.KeyPoint 0000027DCC589FB0>, < cv2.KeyPoint 0000027DCC58A340>, < cv2.KeyPoint 0000027DCC589830>, < cv2.KeyPoint 0000027DCC58A3A0>, < cv2.KeyPoint 0000027DCC58AFD0>, < cv2.KeyPoint 0000027DCC58AD30>, < cv2.KeyPoint 0000027DCC58AD00>, < cv2.KeyPoint 0000027DCC58ACD0>, < cv2.KeyPoint 0000027DCC58ACA0>, < cv2.KeyPoint 0000027DCC58AC70>, < cv2.KeyPoint 0000027DCC58AC40>, < cv2.KeyPoint 0000027DCC58A970>, < cv2.KeyPoint 0000027DCC58A9A0>, < cv2.KeyPoint 0000027DCC58A9D0>, < cv2.KeyPoint 0000027DCC58AA00>, < cv2.KeyPoint 0000027DCC58AA30>, < cv2.KeyPoint 0000027DCC58AA60>, < cv2.KeyPoint 0000027DCC58AA90>, < cv2.KeyPoint 0000027DCC58AAC0>, < cv2.KeyPoint 0000027DCC58AAF0>, < cv2.KeyPoint 0000027DCC58AB20>, < cv2.KeyPoint 0000027DCC58AB50>, < cv2.KeyPoint 0000027DCC58AB80>, < cv2.KeyPoint 0000027DCC58ABB0>, < cv2.KeyPoint 0000027DCC58ABE0>, < cv2.KeyPoint 0000027DCC589D70>, < cv2.KeyPoint 0000027DCC58B330>, < cv2.KeyPoint 0000027DCC58B300>, < cv2.KeyPoint 0000027DCC58B2D0>, < cv2.KeyPoint 0000027DCC58B2A0>, < cv2.KeyPoint 0000027DCC58B270>, < cv2.KeyPoint 0000027DCC58B240>, < cv2.KeyPoint 0000027DCC58B210>, < cv2.KeyPoint 0000027DCC58AF40>) [[  1.   1.   2. ...  18.  20. 119.]\n",
      " [121.  61.  11. ...   1.   5.  13.]\n",
      " [ 90.   9.   7. ...   0.   0.  11.]\n",
      " ...\n",
      " [ 18.   0.   0. ...   0.  19.  27.]\n",
      " [  0.   0.   0. ...   2.   0.   3.]\n",
      " [ 90.   5.   1. ...   0.   0.   0.]]\n"
     ]
    },
    {
     "data": {
      "text/plain": [
       "True"
      ]
     },
     "execution_count": 16,
     "metadata": {},
     "output_type": "execute_result"
    }
   ],
   "source": [
    "# SIFT\n",
    "\n",
    "# Important NOTE:  Use opencv >=4.4 \n",
    "import cv2\n",
    " \n",
    "# Loading the image\n",
    "img = cv2.imread('segmentos\\segmento_1.png')\n",
    " \n",
    " # Converting image to grayscale\n",
    "gray= cv2.cvtColor(img,cv2.COLOR_BGR2GRAY)\n",
    " \n",
    "# Applying SIFT detector\n",
    "sift = cv2.SIFT_create()\n",
    "# kp = sift.detect(gray, None)\n",
    "kp, des = sift.detectAndCompute(gray,None)\n",
    "print(kp,des)\n",
    "\n",
    "# kp,des = sift.compute(gray,kp)\n",
    "# print(kp,des)\n",
    "\n",
    "\n",
    "# Marking the keypoint on the image using circles\n",
    "img=cv2.drawKeypoints(gray ,\n",
    "                      kp ,\n",
    "                      img ,\n",
    "                      flags=cv2.DRAW_MATCHES_FLAGS_DRAW_RICH_KEYPOINTS)\n",
    " \n",
    "cv2.imwrite('image-with-keypoints.jpg', img)"
   ]
  },
  {
   "cell_type": "code",
   "execution_count": 20,
   "metadata": {},
   "outputs": [
    {
     "ename": "error",
     "evalue": "OpenCV(4.7.0) D:\\a\\opencv-python\\opencv-python\\opencv_contrib\\modules\\xfeatures2d\\src\\surf.cpp:1028: error: (-213:The function/feature is not implemented) This algorithm is patented and is excluded in this configuration; Set OPENCV_ENABLE_NONFREE CMake option and rebuild the library in function 'cv::xfeatures2d::SURF::create'\n",
     "output_type": "error",
     "traceback": [
      "\u001b[1;31m---------------------------------------------------------------------------\u001b[0m",
      "\u001b[1;31merror\u001b[0m                                     Traceback (most recent call last)",
      "Cell \u001b[1;32mIn[20], line 8\u001b[0m\n\u001b[0;32m      5\u001b[0m imagen \u001b[38;5;241m=\u001b[39m cv2\u001b[38;5;241m.\u001b[39mimread(\u001b[38;5;124m'\u001b[39m\u001b[38;5;124mimagen.jpg\u001b[39m\u001b[38;5;124m'\u001b[39m, cv2\u001b[38;5;241m.\u001b[39mIMREAD_GRAYSCALE)\n\u001b[0;32m      7\u001b[0m \u001b[38;5;66;03m# Inicializar el detector SURF\u001b[39;00m\n\u001b[1;32m----> 8\u001b[0m surf \u001b[38;5;241m=\u001b[39m \u001b[43mcv2\u001b[49m\u001b[38;5;241;43m.\u001b[39;49m\u001b[43mxfeatures2d\u001b[49m\u001b[38;5;241;43m.\u001b[39;49m\u001b[43mSURF_create\u001b[49m\u001b[43m(\u001b[49m\u001b[43m)\u001b[49m\n\u001b[0;32m     10\u001b[0m \u001b[38;5;66;03m# Detectar puntos clave y calcular descriptores\u001b[39;00m\n\u001b[0;32m     11\u001b[0m puntos_clave, descriptores \u001b[38;5;241m=\u001b[39m surf\u001b[38;5;241m.\u001b[39mdetectAndCompute(imagen, \u001b[38;5;28;01mNone\u001b[39;00m)\n",
      "\u001b[1;31merror\u001b[0m: OpenCV(4.7.0) D:\\a\\opencv-python\\opencv-python\\opencv_contrib\\modules\\xfeatures2d\\src\\surf.cpp:1028: error: (-213:The function/feature is not implemented) This algorithm is patented and is excluded in this configuration; Set OPENCV_ENABLE_NONFREE CMake option and rebuild the library in function 'cv::xfeatures2d::SURF::create'\n"
     ]
    }
   ],
   "source": [
    "# SURF\n",
    "import cv2\n",
    "\n",
    "# Cargar la imagen\n",
    "imagen = cv2.imread('imagen.jpg', cv2.IMREAD_GRAYSCALE)\n",
    "\n",
    "# Inicializar el detector SURF\n",
    "surf = cv2.xfeatures2d.SURF_create()\n",
    "\n",
    "# Detectar puntos clave y calcular descriptores\n",
    "puntos_clave, descriptores = surf.detectAndCompute(imagen, None)\n",
    "\n",
    "# Dibujar puntos clave en la imagen\n",
    "imagen_con_puntos_clave = cv2.drawKeypoints(imagen, puntos_clave, None, (255, 0, 0), 4)\n",
    "\n",
    "# Mostrar la imagen con los puntos clave\n",
    "cv2.imshow('SURF', imagen_con_puntos_clave)\n",
    "cv2.waitKey(0)\n",
    "cv2.destroyAllWindows()\n"
   ]
  },
  {
   "cell_type": "code",
   "execution_count": null,
   "metadata": {},
   "outputs": [],
   "source": []
  }
 ],
 "metadata": {
  "kernelspec": {
   "display_name": "Python 3",
   "language": "python",
   "name": "python3"
  },
  "language_info": {
   "codemirror_mode": {
    "name": "ipython",
    "version": 3
   },
   "file_extension": ".py",
   "mimetype": "text/x-python",
   "name": "python",
   "nbconvert_exporter": "python",
   "pygments_lexer": "ipython3",
   "version": "3.11.1"
  }
 },
 "nbformat": 4,
 "nbformat_minor": 2
}
