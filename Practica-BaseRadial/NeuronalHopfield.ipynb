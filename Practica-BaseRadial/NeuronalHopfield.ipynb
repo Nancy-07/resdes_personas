{
 "cells": [
  {
   "cell_type": "code",
   "execution_count": null,
   "metadata": {},
   "outputs": [],
   "source": [
    "x1 = [1,-1,1-1]\n",
    "x2 = [-1,1,-1,1]\n",
    "\n"
   ]
  }
 ],
 "metadata": {
  "language_info": {
   "name": "python"
  }
 },
 "nbformat": 4,
 "nbformat_minor": 2
}
