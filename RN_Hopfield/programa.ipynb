{
 "cells": [
  {
   "cell_type": "code",
   "execution_count": null,
   "metadata": {},
   "outputs": [],
   "source": [
    "\n",
    "\n",
    "import numpy as np\n",
    "import random\n",
    "\n",
    "values = [1, -1]\n",
    "N = 3\n",
    "x1 = np.zeros(N, dtype=int)\n",
    "x2 = np.zeros(N, dtype=int)\n",
    "\n",
    "for i in range(N):\n",
    "    x1[i] = random.choice(values)\n",
    "    x2[i] = random.choice(values)\n",
    "\n",
    "print(\"x1:\", x1)\n",
    "print(\"x2:\", x2)\n",
    "\n",
    "\n",
    "M1 = np.outer(x1, x1)\n",
    "M2 = np.outer(x2, x2)\n",
    "\n",
    "print(M1)\n",
    "print(M2)\n",
    "\n",
    "for i in range(N):\n",
    "    for j in range(N):\n",
    "        if i == j:\n",
    "            M1[i][j]=0\n",
    "            M2[i][j]=0\n",
    "\n",
    "print(M1)"
   ]
  }
 ],
 "metadata": {
  "kernelspec": {
   "display_name": "Python 3",
   "language": "python",
   "name": "python3"
  },
  "language_info": {
   "name": "python",
   "version": "3.11.2"
  }
 },
 "nbformat": 4,
 "nbformat_minor": 2
}
