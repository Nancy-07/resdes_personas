{
 "cells": [
  {
   "cell_type": "code",
   "execution_count": 37,
   "metadata": {},
   "outputs": [
    {
     "name": "stdout",
     "output_type": "stream",
     "text": [
      "[array([-1,  1,  1, -1]), array([ 1, -1,  1, -1])]\n"
     ]
    }
   ],
   "source": [
    "import numpy as np\n",
    "import random\n",
    "\n",
    "values = [1, -1]\n",
    "N = 4\n",
    "n = 2\n",
    "\n",
    "inputs = []\n",
    "\n",
    "for i in range(n):\n",
    "    x = np.zeros(N, dtype=int)\n",
    "    for j in range(N):\n",
    "        x[j] = random.choice(values)\n",
    "    inputs.append(x.copy())\n",
    "\n",
    "print(inputs)\n"
   ]
  },
  {
   "cell_type": "code",
   "execution_count": null,
   "metadata": {},
   "outputs": [],
   "source": [
    "def FA(z):\n",
    "      if z > 0:\n",
    "            return 1\n",
    "      elif z < 0:\n",
    "            return -1\n",
    "      else:\n",
    "            return 0\n",
    "\n",
    "def recursion(x1, P1):\n",
    "      z1 = np.dot(x1, P1)\n",
    "      print(\"z1: \", z1)\n",
    "      \n",
    "      r1 = np.array([FA(z1[i]) for i in range(len(z1))])\n",
    "      print(\"r1: \", r1)\n",
    "      \n",
    "      # Si el vector resultante “R_1” es igual a “en este caso x1” entonces se evalúa la\n",
    "      # siguiente entrada,\n",
    "      if np.array_equal(r1, x1):\n",
    "            z2 = np.dot(x2, P1)\n",
    "            print(\"z2: \", z2)\n",
    "            return\n",
    "      # de lo contrario R_1 se multiplica nuevamente por los pesos,\n",
    "      # resultando R_2, si R_2 = R_1 entonces se pasa a la siguiente entrada y se realiza un\n",
    "      # proceso similar a partir del paso e,\n",
    "      else:\n",
    "            r2 = r1\n",
    "            while True:\n",
    "                  aux = r2\n",
    "                  # de lo contrario se continúan multiplicando los\n",
    "                  # pesos hasta hallar similitud con la entrada R_n.\n",
    "                  r2 = np.array([FA(np.dot(r2, P1)[i]) for i in range(len(r2))])\n",
    "                  print(\"r2: \", r2)\n",
    "                  \n",
    "                  if np.array_equal(r2, aux):\n",
    "                        print(\"Recursion -> \", r2)\n",
    "                        return\n",
    "                  elif np.array_equal(r2, x1):\n",
    "                        print(\"x1 = x2 -> \", r2)\n",
    "                        return\n",
    "                  else:\n",
    "                        aux = r2\n",
    "                        print(\"Siguiente...\")"
   ]
  },
  {
   "cell_type": "code",
   "execution_count": 38,
   "metadata": {},
   "outputs": [
    {
     "name": "stdout",
     "output_type": "stream",
     "text": [
      "[array([[ 1, -1, -1,  1],\n",
      "       [-1,  1,  1, -1],\n",
      "       [-1,  1,  1, -1],\n",
      "       [ 1, -1, -1,  1]]), array([[ 1, -1,  1, -1],\n",
      "       [-1,  1, -1,  1],\n",
      "       [ 1, -1,  1, -1],\n",
      "       [-1,  1, -1,  1]])]\n",
      "[[ 2 -2  0  0]\n",
      " [-2  2  0  0]\n",
      " [ 0  0  2 -2]\n",
      " [ 0  0 -2  2]]\n"
     ]
    }
   ],
   "source": [
    "def hopfield(x, n, N):\n",
    "    M = []\n",
    "\n",
    "    for i in range(n):\n",
    "        M.append(np.outer(x[i], x[i]))\n",
    "    \n",
    "    print(M)\n",
    "\n",
    "    P = np.zeros(N, dtype=int)\n",
    "\n",
    "    for i in range(n):\n",
    "        P = sum(M)\n",
    "    \n",
    "    print(P)\n",
    "\n",
    "    for i in range(N):\n",
    "        for j in range(N):\n",
    "            if i == j:\n",
    "                P[i][j]=0\n",
    "\n",
    "    print(P)\n",
    "\n",
    "    for i in range(n):\n",
    "        recursion()\n",
    "\n",
    "\n",
    "\n",
    "hopfield(inputs, n, N)"
   ]
  },
  {
   "cell_type": "code",
   "execution_count": null,
   "metadata": {},
   "outputs": [],
   "source": []
  }
 ],
 "metadata": {
  "kernelspec": {
   "display_name": "Python 3",
   "language": "python",
   "name": "python3"
  },
  "language_info": {
   "codemirror_mode": {
    "name": "ipython",
    "version": 3
   },
   "file_extension": ".py",
   "mimetype": "text/x-python",
   "name": "python",
   "nbconvert_exporter": "python",
   "pygments_lexer": "ipython3",
   "version": "3.10.11"
  }
 },
 "nbformat": 4,
 "nbformat_minor": 2
}
