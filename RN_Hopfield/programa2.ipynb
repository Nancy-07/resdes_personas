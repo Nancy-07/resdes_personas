{
 "cells": [
  {
   "cell_type": "code",
   "execution_count": 104,
   "metadata": {},
   "outputs": [],
   "source": [
    "import numpy as np\n",
    "import random"
   ]
  },
  {
   "cell_type": "code",
   "execution_count": 105,
   "metadata": {},
   "outputs": [
    {
     "name": "stdout",
     "output_type": "stream",
     "text": [
      "x1: [-1 -1 -1]\n",
      "x2: [ 1 -1  1]\n"
     ]
    }
   ],
   "source": [
    "# Considerar 2 (x1 y x2) entradas de vectores del mismo tamaño, toma en cuenta que\n",
    "# pueden ser 1 y -1 los valores de la matriz solamente. Estos se ingresarán de manera\n",
    "# manual y puede variar el tamaño del par de vectores.\n",
    "\n",
    "values = [1, -1]\n",
    "N = 3\n",
    "x1 = np.zeros(N, dtype=int)\n",
    "x2 = np.zeros(N, dtype=int)\n",
    "\n",
    "for i in range(N):\n",
    "    x1[i] = random.choice(values)\n",
    "    x2[i] = random.choice(values)\n",
    "\n",
    "print(\"x1:\", x1)\n",
    "print(\"x2:\", x2)"
   ]
  },
  {
   "cell_type": "code",
   "execution_count": 106,
   "metadata": {},
   "outputs": [
    {
     "name": "stdout",
     "output_type": "stream",
     "text": [
      "M1: \n",
      " [[1 1 1]\n",
      " [1 1 1]\n",
      " [1 1 1]]\n",
      "M2: \n",
      " [[ 1 -1  1]\n",
      " [-1  1 -1]\n",
      " [ 1 -1  1]]\n"
     ]
    }
   ],
   "source": [
    "# Realiza una multiplicación de cada vector por su transpuesta de este, para obtener\n",
    "# dos matrices de NxN.\n",
    "\n",
    "M1 = np.outer(x1, x1)\n",
    "M2 = np.outer(x2, x2)\n",
    "\n",
    "print(\"M1: \\n\", M1)\n",
    "print(\"M2: \\n\", M2)\n"
   ]
  },
  {
   "cell_type": "code",
   "execution_count": 107,
   "metadata": {},
   "outputs": [
    {
     "name": "stdout",
     "output_type": "stream",
     "text": [
      "[[2 0 2]\n",
      " [0 2 0]\n",
      " [2 0 2]]\n"
     ]
    }
   ],
   "source": [
    "# Las matrices resultantes serán sumadas (considera que estas deben ser del mismo\n",
    "# tamaño), estos representarán los pesos de la red neuronal.\n",
    "\n",
    "P1 = M1 + M2\n",
    "\n",
    "print(P1)"
   ]
  },
  {
   "cell_type": "code",
   "execution_count": 108,
   "metadata": {},
   "outputs": [
    {
     "name": "stdout",
     "output_type": "stream",
     "text": [
      "P1\n",
      "[[0 0 2]\n",
      " [0 0 0]\n",
      " [2 0 0]]\n"
     ]
    }
   ],
   "source": [
    "# Convierte la matriz resultante cambiando los números de la diagonal por 0s (esta\n",
    "# será P_1).\n",
    "\n",
    "for i in range(N):\n",
    "    for j in range(N):\n",
    "        if i == j:\n",
    "            P1[i][j]=0\n",
    "            # M1[i][j]=0\n",
    "            # M2[i][j]=0\n",
    "\n",
    "print(\"P1\")\n",
    "print(P1)"
   ]
  },
  {
   "cell_type": "code",
   "execution_count": 109,
   "metadata": {},
   "outputs": [
    {
     "name": "stdout",
     "output_type": "stream",
     "text": [
      "z1:  [-2  0 -2]\n",
      "r1:  [-1  0 -1]\n",
      "r2:  [-1  0 -1]\n",
      "Recursion ->  [-1  0 -1]\n"
     ]
    }
   ],
   "source": [
    "def FA(z):\n",
    "      if z > 0:\n",
    "            return 1\n",
    "      elif z < 0:\n",
    "            return -1\n",
    "      else:\n",
    "            return 0\n",
    "\n",
    "def recursion(x1, P1):\n",
    "      z1 = np.dot(x1, P1)\n",
    "      print(\"z1: \", z1)\n",
    "      \n",
    "      r1 = np.array([FA(z1[i]) for i in range(len(z1))])\n",
    "      print(\"r1: \", r1)\n",
    "      \n",
    "      # Si el vector resultante “R_1” es igual a “en este caso x1” entonces se evalúa la\n",
    "      # siguiente entrada,\n",
    "      if np.array_equal(r1, x1):\n",
    "            z2 = np.dot(x2, P1)\n",
    "            print(\"z2: \", z2)\n",
    "            return\n",
    "      # de lo contrario R_1 se multiplica nuevamente por los pesos,\n",
    "      # resultando R_2, si R_2 = R_1 entonces se pasa a la siguiente entrada y se realiza un\n",
    "      # proceso similar a partir del paso e,\n",
    "      else:\n",
    "            r2 = r1\n",
    "            while True:\n",
    "                  aux = r2\n",
    "                  # de lo contrario se continúan multiplicando los\n",
    "                  # pesos hasta hallar similitud con la entrada R_n.\n",
    "                  r2 = np.array([FA(np.dot(r2, P1)[i]) for i in range(len(r2))])\n",
    "                  print(\"r2: \", r2)\n",
    "                  \n",
    "                  if np.array_equal(r2, aux):\n",
    "                        print(\"Recursion -> \", r2)\n",
    "                        return\n",
    "                  elif np.array_equal(r2, x1):\n",
    "                        print(\"x1 = x2 -> \", r2)\n",
    "                        return\n",
    "                  else:\n",
    "                        aux = r2\n",
    "                        print(\"Siguiente...\")\n",
    "\n",
    "recursion(x1, P1)"
   ]
  },
  {
   "cell_type": "code",
   "execution_count": null,
   "metadata": {},
   "outputs": [],
   "source": []
  },
  {
   "cell_type": "code",
   "execution_count": null,
   "metadata": {},
   "outputs": [],
   "source": [
    "\n",
    "\n",
    "\n",
    "     \n",
    "\n",
    "\n",
    "\n"
   ]
  }
 ],
 "metadata": {
  "kernelspec": {
   "display_name": "Python 3",
   "language": "python",
   "name": "python3"
  },
  "language_info": {
   "codemirror_mode": {
    "name": "ipython",
    "version": 3
   },
   "file_extension": ".py",
   "mimetype": "text/x-python",
   "name": "python",
   "nbconvert_exporter": "python",
   "pygments_lexer": "ipython3",
   "version": "3.11.1"
  }
 },
 "nbformat": 4,
 "nbformat_minor": 2
}
