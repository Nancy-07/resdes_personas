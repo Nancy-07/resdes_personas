{
 "cells": [
  {
   "cell_type": "code",
   "execution_count": 11,
   "metadata": {},
   "outputs": [
    {
     "name": "stdout",
     "output_type": "stream",
     "text": [
      "[array([-1, -1]), array([-1, -1,  1]), array([1, 1, 1, 1]), array([-1,  1, -1])]\n"
     ]
    }
   ],
   "source": [
    "import numpy as np\n",
    "import random\n",
    "\n",
    "values = [1, -1]\n",
    "inputs = []\n",
    "\n",
    "\n",
    "cantidad_vectores = input(\"Cantidad de vectores:\")\n",
    "for i in range(int(cantidad_vectores)):\n",
    "    tamanio_vector = input(f\"Tamaño del vector {i}: \")\n",
    "    x = np.zeros(int(tamanio_vector), dtype=int)\n",
    "    for j in range(int(tamanio_vector)):\n",
    "            x[j] = random.choice(values)\n",
    "    inputs.append(x.copy())\n",
    "    \n",
    "print(inputs)\n"
   ]
  },
  {
   "cell_type": "code",
   "execution_count": 3,
   "metadata": {},
   "outputs": [],
   "source": [
    "def FA(z):\n",
    "      if z > 0:\n",
    "            return 1\n",
    "      elif z < 0:\n",
    "            return -1\n",
    "      else:\n",
    "            return 0\n",
    "\n",
    "def recursion(x1, P1):\n",
    "      z1 = np.dot(x1, P1)\n",
    "      print(\"z1: \", z1)\n",
    "      \n",
    "      r1 = np.array([FA(z1[i]) for i in range(len(z1))])\n",
    "      print(\"r1: \", r1)\n",
    "      \n",
    "      # Si el vector resultante “R_1” es igual a “en este caso x1” entonces se evalúa la\n",
    "      # siguiente entrada,\n",
    "      if np.array_equal(r1, x1):\n",
    "            z2 = np.dot(x2, P1)\n",
    "            print(\"z2: \", z2)\n",
    "            return\n",
    "      # de lo contrario R_1 se multiplica nuevamente por los pesos,\n",
    "      # resultando R_2, si R_2 = R_1 entonces se pasa a la siguiente entrada y se realiza un\n",
    "      # proceso similar a partir del paso e,\n",
    "      else:\n",
    "            r2 = r1\n",
    "            while True:\n",
    "                  aux = r2\n",
    "                  # de lo contrario se continúan multiplicando los\n",
    "                  # pesos hasta hallar similitud con la entrada R_n.\n",
    "                  r2 = np.array([FA(np.dot(r2, P1)[i]) for i in range(len(r2))])\n",
    "                  print(\"r2: \", r2)\n",
    "                  \n",
    "                  if np.array_equal(r2, aux):\n",
    "                        print(\"Recursion -> \", r2)\n",
    "                        return\n",
    "                  elif np.array_equal(r2, x1):\n",
    "                        print(\"x1 = x2 -> \", r2)\n",
    "                        return\n",
    "                  else:\n",
    "                        aux = r2\n",
    "                        print(\"Siguiente...\")"
   ]
  },
  {
   "cell_type": "code",
   "execution_count": 4,
   "metadata": {},
   "outputs": [
    {
     "name": "stdout",
     "output_type": "stream",
     "text": [
      "[array([[ 1, -1,  1,  1,  1, -1, -1, -1],\n",
      "       [-1,  1, -1, -1, -1,  1,  1,  1],\n",
      "       [ 1, -1,  1,  1,  1, -1, -1, -1],\n",
      "       [ 1, -1,  1,  1,  1, -1, -1, -1],\n",
      "       [ 1, -1,  1,  1,  1, -1, -1, -1],\n",
      "       [-1,  1, -1, -1, -1,  1,  1,  1],\n",
      "       [-1,  1, -1, -1, -1,  1,  1,  1],\n",
      "       [-1,  1, -1, -1, -1,  1,  1,  1]]), array([[ 1,  1, -1, -1, -1,  1,  1, -1],\n",
      "       [ 1,  1, -1, -1, -1,  1,  1, -1],\n",
      "       [-1, -1,  1,  1,  1, -1, -1,  1],\n",
      "       [-1, -1,  1,  1,  1, -1, -1,  1],\n",
      "       [-1, -1,  1,  1,  1, -1, -1,  1],\n",
      "       [ 1,  1, -1, -1, -1,  1,  1, -1],\n",
      "       [ 1,  1, -1, -1, -1,  1,  1, -1],\n",
      "       [-1, -1,  1,  1,  1, -1, -1,  1]])]\n",
      "[[ 2  0  0  0  0  0  0 -2]\n",
      " [ 0  2 -2 -2 -2  2  2  0]\n",
      " [ 0 -2  2  2  2 -2 -2  0]\n",
      " [ 0 -2  2  2  2 -2 -2  0]\n",
      " [ 0 -2  2  2  2 -2 -2  0]\n",
      " [ 0  2 -2 -2 -2  2  2  0]\n",
      " [ 0  2 -2 -2 -2  2  2  0]\n",
      " [-2  0  0  0  0  0  0  2]]\n",
      "[[ 0  0  0  0  0  0  0 -2]\n",
      " [ 0  0 -2 -2 -2  2  2  0]\n",
      " [ 0 -2  0  2  2 -2 -2  0]\n",
      " [ 0 -2  2  0  2 -2 -2  0]\n",
      " [ 0 -2  2  2  0 -2 -2  0]\n",
      " [ 0  2 -2 -2 -2  0  2  0]\n",
      " [ 0  2 -2 -2 -2  2  0  0]\n",
      " [-2  0  0  0  0  0  0  0]]\n"
     ]
    },
    {
     "ename": "TypeError",
     "evalue": "recursion() missing 2 required positional arguments: 'x1' and 'P1'",
     "output_type": "error",
     "traceback": [
      "\u001b[1;31m---------------------------------------------------------------------------\u001b[0m",
      "\u001b[1;31mTypeError\u001b[0m                                 Traceback (most recent call last)",
      "Cell \u001b[1;32mIn[4], line 28\u001b[0m\n\u001b[0;32m     23\u001b[0m     \u001b[38;5;28;01mfor\u001b[39;00m i \u001b[38;5;129;01min\u001b[39;00m \u001b[38;5;28mrange\u001b[39m(cantidad_vectores):\n\u001b[0;32m     24\u001b[0m         recursion()\n\u001b[1;32m---> 28\u001b[0m \u001b[43mhopfield\u001b[49m\u001b[43m(\u001b[49m\u001b[43minputs\u001b[49m\u001b[43m,\u001b[49m\u001b[43m \u001b[49m\u001b[43mcantidad_vectores\u001b[49m\u001b[43m,\u001b[49m\u001b[43m \u001b[49m\u001b[43mtamanio_vector\u001b[49m\u001b[43m)\u001b[49m\n",
      "Cell \u001b[1;32mIn[4], line 24\u001b[0m, in \u001b[0;36mhopfield\u001b[1;34m(x, cantidad_vectores, tamanio_vector)\u001b[0m\n\u001b[0;32m     21\u001b[0m \u001b[38;5;28mprint\u001b[39m(P)\n\u001b[0;32m     23\u001b[0m \u001b[38;5;28;01mfor\u001b[39;00m i \u001b[38;5;129;01min\u001b[39;00m \u001b[38;5;28mrange\u001b[39m(cantidad_vectores):\n\u001b[1;32m---> 24\u001b[0m     \u001b[43mrecursion\u001b[49m\u001b[43m(\u001b[49m\u001b[43m)\u001b[49m\n",
      "\u001b[1;31mTypeError\u001b[0m: recursion() missing 2 required positional arguments: 'x1' and 'P1'"
     ]
    }
   ],
   "source": [
    "def hopfield(x, cantidad_vectores, tamanio_vector):\n",
    "    M = []\n",
    "\n",
    "    for i in range(cantidad_vectores):\n",
    "        M.append(np.outer(x[i], x[i]))\n",
    "    \n",
    "    print(M)\n",
    "\n",
    "    P = np.zeros(tamanio_vector, dtype=int)\n",
    "\n",
    "    for i in range(cantidad_vectores):\n",
    "        P = sum(M)\n",
    "    \n",
    "    print(P)\n",
    "\n",
    "    for i in range(tamanio_vector):\n",
    "        for j in range(tamanio_vector):\n",
    "            if i == j:\n",
    "                P[i][j]=0\n",
    "\n",
    "    print(P)\n",
    "\n",
    "    for i in range(cantidad_vectores):\n",
    "        recursion()\n",
    "\n",
    "\n",
    "\n",
    "hopfield(inputs, cantidad_vectores, tamanio_vector)"
   ]
  },
  {
   "cell_type": "code",
   "execution_count": null,
   "metadata": {},
   "outputs": [],
   "source": []
  }
 ],
 "metadata": {
  "kernelspec": {
   "display_name": "Python 3",
   "language": "python",
   "name": "python3"
  },
  "language_info": {
   "codemirror_mode": {
    "name": "ipython",
    "version": 3
   },
   "file_extension": ".py",
   "mimetype": "text/x-python",
   "name": "python",
   "nbconvert_exporter": "python",
   "pygments_lexer": "ipython3",
   "version": "3.11.1"
  }
 },
 "nbformat": 4,
 "nbformat_minor": 2
}
