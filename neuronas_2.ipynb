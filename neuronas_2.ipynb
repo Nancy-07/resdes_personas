import numpy as np
import matplotlib.pyplot as plt
import pandas as pd

# Leer el dataset desde un archivo CSV
df = pd.read_csv("descriptores/descriptores_completos2.csv", header=None)

# Obtener las etiquetas (última columna del DataFrame)
labels = df.iloc[:, -1]

# Contar la frecuencia de cada etiqueta
label_counts = labels.value_counts()

# Graficar la distribución de las etiquetas
plt.figure(figsize=(8, 6))
label_counts.plot(kind='bar')
plt.title('Distribución de Etiquetas')
plt.xlabel('Etiqueta')
plt.ylabel('Frecuencia')
plt.xticks(rotation=45)
plt.show()

import numpy as np
import matplotlib.pyplot as plt
import pandas as pd

# Leer el dataset desde un archivo CSV
df = pd.read_csv("descriptores/descriptores_completos2.csv", header=None)

# Obtener las etiquetas (última columna del DataFrame)
labels = df.iloc[:, -1]

# Contar la frecuencia de cada etiqueta
label_counts = labels.value_counts()

# Graficar la distribución de las etiquetas
plt.figure(figsize=(8, 6))
label_counts.plot(kind='bar')
plt.title('Distribución de Etiquetas')
plt.xlabel('Etiqueta')
plt.ylabel('Frecuencia')
plt.xticks(rotation=45)
plt.show()

num_features = X.shape[1]

for epocas in range(20, 100, 20):
    for c in range (3,15):
        i = 0.2
        while i < 1:
            j = 0.5
            while j < 1:
                
                model = tf.keras.Sequential([tf.keras.layers.Dense(c, activation= 'sigmoid', input_shape=(num_features,))])
                optimizer = tf.keras.optimizers.SGD(learning_rate=j, momentum=i)
                model.compile(optimizer=optimizer, loss='sparse_categorical_crossentropy',metrics=['accuracy'])
                num_folds = 20

                kf = KFold(n_splits=num_folds)

                fold_accs = []

                for train_index, val_index in kf.split(X):
                    X_train, X_val = X[train_index], X[val_index]
                    y_train, y_val = y[train_index], y[val_index]

                   
                    model.fit(X_train, y_train, epochs=epocas, verbose=0)
                    _, fold_acc = model.evaluate(X_val, y_val, verbose=0)
                    fold_accs.append(fold_acc)
                mean_acc = np.mean(fold_accs)
                with open("resultados2.txt", "a") as file:
                    file.write(f"{epocas},{c}, {i}, {j}, {mean_acc}\n")
                print(epocas,c,i, j)
                
                j += 0.5
            i += 0.2
        c = c+ 1
