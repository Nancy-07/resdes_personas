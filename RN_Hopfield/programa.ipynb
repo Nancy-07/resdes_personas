{
 "cells": [
  {
   "cell_type": "code",
   "execution_count": null,
   "metadata": {},
   "outputs": [],
<<<<<<< HEAD
   "source": []
  },
  {
   "cell_type": "code",
   "execution_count": null,
   "metadata": {},
   "outputs": [],
   "source": [
    "def FA(z):\n",
    "     if z > 0:\n",
    "           return 1\n",
    "     elif z < 0:\n",
    "           return -1\n",
    "     else:\n",
    "          return 0"
   ]
  },
  {
   "cell_type": "code",
   "execution_count": null,
   "metadata": {},
   "outputs": [],
   "source": [
    "z1 = x1 * p_1\n",
    "\n",
    "r1 = []\n",
    "r1 = []\n",
    "\n",
    "for i in range(len(z1)):\n",
    "     r1[i] = FA(z1[i])\n",
    "\n",
    "if r1 == x1:\n",
    "     z2 = x2 * p_2\n",
    "else:\n",
    "     r2 = r1 * p_1\n",
    "     "
   ]
  },
  {
   "cell_type": "code",
   "execution_count": null,
   "metadata": {},
   "outputs": [],
   "source": []
  },
  {
   "cell_type": "code",
   "execution_count": null,
   "metadata": {},
   "outputs": [],
   "source": []
=======
   "source": [
    "\n",
    "\n",
    "import numpy as np\n",
    "import random\n",
    "\n",
    "values = [1, -1]\n",
    "N = 3\n",
    "x1 = np.zeros(N, dtype=int)\n",
    "x2 = np.zeros(N, dtype=int)\n",
    "\n",
    "for i in range(N):\n",
    "    x1[i] = random.choice(values)\n",
    "    x2[i] = random.choice(values)\n",
    "\n",
    "print(\"x1:\", x1)\n",
    "print(\"x2:\", x2)\n",
    "\n",
    "\n",
    "M1 = np.outer(x1, x1)\n",
    "M2 = np.outer(x2, x2)\n",
    "\n",
    "print(M1)\n",
    "print(M2)\n",
    "\n",
    "for i in range(N):\n",
    "    for j in range(N):\n",
    "        if i == j:\n",
    "            M1[i][j]=0\n",
    "            M2[i][j]=0\n",
    "\n",
    "print(M1)"
   ]
>>>>>>> 7b823742507f57dd1c54816ad164b4e506dd8189
  }
 ],
 "metadata": {
  "kernelspec": {
   "display_name": "Python 3",
   "language": "python",
   "name": "python3"
  },
  "language_info": {
   "name": "python",
   "version": "3.11.2"
  }
 },
 "nbformat": 4,
 "nbformat_minor": 2
}
